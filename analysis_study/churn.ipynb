{
 "cells": [
  {
   "cell_type": "code",
   "execution_count": null,
   "metadata": {},
   "outputs": [],
   "source": [
    "import pandas as pd\n",
    "\n",
    "churn_data = pd.read_csv('churn.csv', sep=';')\n",
    "print(churn_data.head())\n",
    "\n",
    "import plotly\n",
    "import plotly.express as px"
   ]
  },
  {
   "cell_type": "markdown",
   "metadata": {},
   "source": [
    "# 9.1. Каково соотношение ушедших и лояльных клиентов? Покажите это на графике и дайте комментарий по соотношению."
   ]
  },
  {
   "cell_type": "code",
   "execution_count": null,
   "metadata": {},
   "outputs": [],
   "source": [
    "churn_data['Exited_values'] = churn_data['Exited'].value_counts()\n",
    "fig = px.pie(churn_data , values= 'Exited_values', title= 'Соотношение ушедших и лояльных клиентов')\n",
    "fig.update_traces(textposition='inside' , textinfo='percent+label')\n",
    "fig.show()"
   ]
  },
  {
   "cell_type": "markdown",
   "metadata": {},
   "source": [
    "Соотношение лояльных клиентов к ушедшим 80/20. То есть уходит из банка каждый пятый клиент."
   ]
  },
  {
   "cell_type": "markdown",
   "metadata": {},
   "source": [
    "# 9.2. Постройте график, показывающий распределение баланса пользователей, у которых на счету больше 2 500 долларов. Опишите распределение и сделайте выводы."
   ]
  },
  {
   "cell_type": "code",
   "execution_count": null,
   "metadata": {},
   "outputs": [],
   "source": [
    "histogram_data = churn_data[churn_data['Balance'] > 2500]\n",
    "fig = px.histogram(\n",
    "    data_frame = histogram_data,\n",
    "    x = 'Balance',\n",
    "    height=300,\n",
    "    width=700,\n",
    "    title='Распределение баланса на счетах в банке (>2500$)',\n",
    ")\n",
    "fig.show()"
   ]
  },
  {
   "cell_type": "markdown",
   "metadata": {},
   "source": [
    "Баланс пользователя начинается от 3999к до 251к. Больше всего клиентов в банке с балансом от 100к до 150к"
   ]
  },
  {
   "cell_type": "markdown",
   "metadata": {},
   "source": [
    "# 9.3. Посмотрите на распределение баланса клиента в разрезе признака оттока. Как различаются суммы на накопительном счёте ушедших и лояльных клиентов? Подумайте и напишите, с чем это может быть связано, что может не устраивать ушедших клиентов в банке."
   ]
  },
  {
   "cell_type": "code",
   "execution_count": null,
   "metadata": {},
   "outputs": [],
   "source": [
    "fig = px.histogram(\n",
    "    data_frame = churn_data,\n",
    "    x = 'Balance',\n",
    "    color='Exited',\n",
    "    height=300,\n",
    "    width=700,\n",
    "    title='Распределение баланса на счетах в банке',\n",
    ")\n",
    "fig.show()"
   ]
  },
  {
   "cell_type": "markdown",
   "metadata": {},
   "source": [
    "У большого числа ушедших из банка остался там баланс, аномалия? Так же суммы на счетах ушедших клиентов значительно меньше, чем на счетах активных клиентов. Значит банку нужно активнее привлекать денежные средства клиентов на свои счета."
   ]
  },
  {
   "cell_type": "markdown",
   "metadata": {},
   "source": [
    "# 9.4. Посмотрите на распределение возраста в разрезе признака оттока. В какой группе больше потенциальных выбросов? На какую возрастную категорию клиентов стоит обратить внимание банку?"
   ]
  },
  {
   "cell_type": "code",
   "execution_count": null,
   "metadata": {},
   "outputs": [],
   "source": [
    "fig = px.box(\n",
    "    data_frame=churn_data,\n",
    "    x='Age',\n",
    "    color='Exited',\n",
    "    height=300,\n",
    "    width=700,\n",
    "    title='Распределение возраста клиентов по группам'\n",
    ")\n",
    "fig.show()\n"
   ]
  },
  {
   "cell_type": "markdown",
   "metadata": {},
   "source": [
    "Возраст ушедших клиентов колеблется от 18 до 71 года. Есть небольшое количество аномалий по возрасту: более 80 лет - но можно принять их за истину, так как возрастные клиенты по разным причинам покидают банки возраст лояльных клиентов колеблется от 18 до 56 лет. Очень большое количество аномальных выбросов от 56 до 92 лет нужна проверка данных"
   ]
  },
  {
   "cell_type": "markdown",
   "metadata": {},
   "source": [
    "# 9.5. Постройте график, который показывает взаимосвязь кредитного рейтинга клиента и его предполагаемой зарплаты. Добавьте расцветку по признаку оттока клиентов. Какова взаимосвязь между признаками? Если не видите явной взаимосвязи, укажите это."
   ]
  },
  {
   "cell_type": "code",
   "execution_count": null,
   "metadata": {},
   "outputs": [],
   "source": [
    "fig = px.bar(\n",
    "    churn_data,\n",
    "    x='CreditScore',\n",
    "    y='EstimatedSalary',\n",
    "    color='Exited',\n",
    "    height=800\n",
    ")\n",
    "\n",
    "fig.show()"
   ]
  },
  {
   "cell_type": "markdown",
   "metadata": {},
   "source": [
    "Зависимость проследить не удалось."
   ]
  },
  {
   "cell_type": "markdown",
   "metadata": {},
   "source": [
    "# 9.6. Кто чаще уходит, мужчины или женщины? Постройте график, который иллюстрирует это."
   ]
  },
  {
   "cell_type": "code",
   "execution_count": null,
   "metadata": {},
   "outputs": [],
   "source": [
    "mask = churn_data['Exited'] == 1\n",
    "GenderLost = churn_data[mask].groupby(['Gender'])['Exited'].count()\n",
    "\n",
    "print(GenderLost)\n"
   ]
  },
  {
   "cell_type": "markdown",
   "metadata": {},
   "source": [
    "Наибольший отток среди женщин"
   ]
  },
  {
   "cell_type": "markdown",
   "metadata": {},
   "source": [
    "# 9.7. Как отток клиентов зависит от числа приобретённых у банка услуг? Для ответа на этот вопрос постройте многоуровневую столбчатую диаграмму."
   ]
  },
  {
   "cell_type": "code",
   "execution_count": null,
   "metadata": {},
   "outputs": [],
   "source": [
    "bar_data = churn_data.groupby(['NumOfProducts' , 'Exited'] , as_index=False).count()\n",
    "fig = px.bar(\n",
    "    data_frame=bar_data,\n",
    "    x='NumOfProducts',\n",
    "    y='RowNumber',\n",
    "    color='Exited',\n",
    "    barmode='group',\n",
    "    height=300,\n",
    "    width=200,\n",
    "    title='Соотношение ушедших и лояльных клиентов в зависимости от числа услуг'\n",
    ")\n",
    "fig.show()"
   ]
  },
  {
   "cell_type": "markdown",
   "metadata": {},
   "source": [
    "Всего банк предлагает своим клиентам 4 услуги. Доля ушедших клиентов больше всего среди тех, кто пользуется одним продуктом банка. На втором месте по доле ушедших клиентов - пользователи двух услуг. Доля лояльных пользователей, у которых подключено три услуги банка значительно ниже, чем доля ушедших. Среди пользователей 4мя услугами банка нет лояльных пользователей. Можно сделать вывод, что оптимальное количество услуг для клиентова банка = 2"
   ]
  },
  {
   "cell_type": "markdown",
   "metadata": {},
   "source": [
    "# 9.8. Как влияет наличие статуса активного клиента на отток клиентов? Постройте диаграмму, иллюстрирующую это. Что бы вы предложили банку, чтобы уменьшить отток клиентов среди неактивных?"
   ]
  },
  {
   "cell_type": "code",
   "execution_count": null,
   "metadata": {},
   "outputs": [],
   "source": [
    "\n",
    "churn_data['Active'] = churn_data.IsActiveMember.apply(lambda x: 'Активные клиенты' if x else 'Неактивные клиенты')\n",
    "churn_data['Loyal'] = churn_data.Exited.apply(lambda x: 'Нелоялные клиенты' if x else 'Лояльные клиенты')\n",
    "\n",
    "fig = px.sunburst(\n",
    "    churn_data,\n",
    "    path=['Active','Loyal'],\n",
    ")\n",
    "fig.update_traces(textinfo='label+percent entry')\n",
    "\n",
    "fig.show()"
   ]
  },
  {
   "cell_type": "markdown",
   "metadata": {},
   "source": [
    "Доля активных и неактивных клиентов примерно равны. Среди неактивных клиентов велика доля лояльных банку пользователей. Стоит обратить внимание на них, что то предложить, вовлечь в пользование счетом. Думаю, будет правильным программу лояльности направить в первую очередь на этих клиентов\n"
   ]
  },
  {
   "cell_type": "markdown",
   "metadata": {},
   "source": [
    "# 9.9. В какой стране доля ушедших клиентов больше? Постройте тепловую картограмму, которая покажет это соотношение на карте мира. Предположите, с чем это может быть связано."
   ]
  },
  {
   "cell_type": "code",
   "execution_count": null,
   "metadata": {},
   "outputs": [],
   "source": [
    "chorn_data = churn_data.groupby(['Geography'], as_index=False).mean()\n",
    "fig = px.choropleth(\n",
    "    data_frame=chorn_data,\n",
    "    locations='Geography',\n",
    "    locationmode='country names',\n",
    "    color='Exited',\n",
    "    hover_name='Geography',\n",
    "    color_continuous_scale='Reds',\n",
    "    height=500,\n",
    "    width=700,\n",
    "    title='Отток клиентов по карте мира'\n",
    "    )\n",
    "\n",
    "fig.show()"
   ]
  },
  {
   "cell_type": "markdown",
   "metadata": {},
   "source": [
    "Самый большой отток клиентов в Германии"
   ]
  },
  {
   "cell_type": "markdown",
   "metadata": {},
   "source": [
    "# 9.10. Переведите числовой признак CreditScore в категориальный. Для этого воспользуйтесь функцией get_credit_score_cat(), которая приведена ниже. Примените её к столбцу CreditScore и создайте новый признак CreditScoreCat — категории кредитного рейтинга."
   ]
  },
  {
   "cell_type": "code",
   "execution_count": null,
   "metadata": {},
   "outputs": [],
   "source": [
    "def get_credit_score_cat(credit_score):\n",
    "    if credit_score >= 300 and credit_score < 500:\n",
    "        return \"Very_Poor\"\n",
    "    elif credit_score >= 500 and credit_score < 601:\n",
    "        return \"Poor\"\n",
    "    elif credit_score >= 601 and credit_score < 661:\n",
    "        return \"Fair\"\n",
    "    elif credit_score >= 661 and credit_score < 781:\n",
    "        return \"Good\"\n",
    "    elif credit_score >= 781 and credit_score < 851:\n",
    "        return \"Excellent\"\n",
    "    elif credit_score >= 851:\n",
    "        return \"Top\"\n",
    "    elif credit_score < 300:\n",
    "        return \"Deep\"\n",
    "    \n",
    "churn_data['CreditScoreCat'] = churn_data['CreditScore'].apply(get_credit_score_cat)\n",
    "\n",
    "df_churn_data = churn_data.pivot_table(\n",
    "    values='Exited',\n",
    "    index='CreditScoreCat',\n",
    "    columns='Tenure'\n",
    ")\n",
    "\n",
    "fig = px.imshow(df_churn_data)\n",
    "\n",
    "fig.show()"
   ]
  },
  {
   "cell_type": "markdown",
   "metadata": {},
   "source": [
    "Чаще всего уходят клиенты с плохим кредитным рейтингом, которые пользовались услугами банка менее года. Так же наблюдается довольно больой % ухода пользователей с плохим кредитным рейтингом и сроком пользования услугами банка от 10 ле"
   ]
  }
 ],
 "metadata": {
  "interpreter": {
   "hash": "bb71209e654aff92f7924d6e9cf6b809013c2766104399761c337e50427c5cc8"
  },
  "kernelspec": {
   "display_name": "Python 3.8.12 ('my_only')",
   "language": "python",
   "name": "python3"
  },
  "language_info": {
   "codemirror_mode": {
    "name": "ipython",
    "version": 3
   },
   "file_extension": ".py",
   "mimetype": "text/x-python",
   "name": "python",
   "nbconvert_exporter": "python",
   "pygments_lexer": "ipython3",
   "version": "3.8.12"
  },
  "orig_nbformat": 4
 },
 "nbformat": 4,
 "nbformat_minor": 2
}
