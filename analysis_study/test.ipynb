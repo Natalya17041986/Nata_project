{
 "cells": [
  {
   "cell_type": "code",
   "execution_count": null,
   "metadata": {},
   "outputs": [],
   "source": []
  }
 ],
 "metadata": {
  "interpreter": {
   "hash": "bb71209e654aff92f7924d6e9cf6b809013c2766104399761c337e50427c5cc8"
  },
  "kernelspec": {
   "display_name": "Python 3.8.12 ('my_only')",
   "language": "python",
   "name": "python3"
  },
  "language_info": {
   "name": "python",
   "version": "3.8.12"
  },
  "orig_nbformat": 4
 },
 "nbformat": 4,
 "nbformat_minor": 2
}
